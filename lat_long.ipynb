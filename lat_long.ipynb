{
 "cells": [
  {
   "cell_type": "code",
   "execution_count": 19,
   "metadata": {},
   "outputs": [],
   "source": [
    "import mysql.connector\n",
    "import requests\n",
    "import urllib\n",
    "import pandas as pd\n",
    "import json\n",
    "import os\n",
    "from dotenv import load_dotenv\n",
    "\n",
    "load_dotenv()"
   ]
  },
  {
   "cell_type": "code",
   "execution_count": 20,
   "metadata": {},
   "outputs": [],
   "source": [
    "mydb = mysql.connector.connect(\n",
    "  host=\"127.0.0.1\",\n",
    "  user=\"root\",\n",
    "  password=os.getenv(\"SQL_PASSWORD\"),\n",
    "  database=\"nfl\"\n",
    ")\n",
    "cursor = mydb.cursor()"
   ]
  },
  {
   "cell_type": "code",
   "execution_count": 21,
   "metadata": {},
   "outputs": [],
   "source": [
    "cursor.execute('SELECT * FROM stadiums')\n"
   ]
  },
  {
   "cell_type": "code",
   "execution_count": 22,
   "metadata": {},
   "outputs": [],
   "source": [
    "rows = cursor.fetchall()\n",
    "df = pd.DataFrame(rows, columns=[i[0] for i in cursor.description])"
   ]
  },
  {
   "cell_type": "code",
   "execution_count": null,
   "metadata": {},
   "outputs": [],
   "source": [
    "\n",
    "\n",
    "# USGS Elevation Point Query Service\n",
    "#url = r'https://nationalmap.gov/epqs/pqs.php?'\n",
    "#new 2023:\n",
    "url = r'https://epqs.nationalmap.gov/v1/json?'\n",
    "\n",
    "def elevation_function(df, lat_column, lon_column):\n",
    "    \"\"\"Query service using lat, lon. add the elevation values as a new column.\"\"\"\n",
    "    elevations = []\n",
    "    for lat, lon in zip(df[lat_column], df[lon_column]):\n",
    "                \n",
    "        # define rest query params\n",
    "        params = {\n",
    "            'output': 'json',\n",
    "            'x': lon,\n",
    "            'y': lat,\n",
    "            'units': 'Feet'\n",
    "        }\n",
    "        \n",
    "        # format query string and return query value\n",
    "        result = requests.get((url + urllib.parse.urlencode(params)))\n",
    "        print(result.text)  # print the response text\n",
    "        try:\n",
    "            elevations.append(result.json()['value'])\n",
    "        except json.JSONDecodeError:\n",
    "            print(f\"Failed to decode JSON for {lat}, {lon}\")\n",
    "            elevations.append(None)\n",
    "\n",
    "    df['altitude'] = elevations\n",
    "\n",
    "elevation_function(df, 'latitude', 'longitude')\n",
    "df.head()"
   ]
  },
  {
   "cell_type": "code",
   "execution_count": 27,
   "metadata": {},
   "outputs": [
    {
     "name": "stdout",
     "output_type": "stream",
     "text": [
      "MySQL connection is closed\n"
     ]
    }
   ],
   "source": [
    "for i,row in df.iterrows():\n",
    "    altitude = row['altitude'] if pd.notna(row['altitude']) else None\n",
    "    name = row['name'] if pd.notna(row['name']) else None\n",
    "    sql = \"UPDATE stadiums SET altitude = %s WHERE name = %s\"\n",
    "    data = (altitude, name)\n",
    "    cursor.execute(sql,data)\n",
    "\n",
    "mydb.commit()\n",
    "\n",
    "if (mydb.is_connected()):\n",
    "    cursor.close()\n",
    "    mydb.close()\n",
    "    print(\"MySQL connection is closed\")"
   ]
  }
 ],
 "metadata": {
  "kernelspec": {
   "display_name": "Python 3",
   "language": "python",
   "name": "python3"
  },
  "language_info": {
   "codemirror_mode": {
    "name": "ipython",
    "version": 3
   },
   "file_extension": ".py",
   "mimetype": "text/x-python",
   "name": "python",
   "nbconvert_exporter": "python",
   "pygments_lexer": "ipython3",
   "version": "3.11.1"
  }
 },
 "nbformat": 4,
 "nbformat_minor": 2
}
