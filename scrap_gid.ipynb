{
 "cells": [
  {
   "cell_type": "code",
   "execution_count": 71,
   "metadata": {},
   "outputs": [],
   "source": [
    "import pandas as pd\n",
    "import requests\n",
    "from bs4 import BeautifulSoup\n",
    "import re\n",
    "import sqlite3\n",
    "import time\n",
    "from datetime import datetime\n",
    "from statistics import mean\n",
    "import mysql.connector"
   ]
  },
  {
   "cell_type": "code",
   "execution_count": 3,
   "metadata": {},
   "outputs": [],
   "source": [
    "\n",
    "prefix = 'https://www.espn.com/nfl/matchup/_/gameId/'\n",
    "game_ids = []\n",
    "\n",
    "for year in range(2006,2023):\n",
    "    time.sleep(1)\n",
    "    webpage_response = requests.get('https://www.espn.com/nfl/schedulegrid/_/year/'+str(year), headers={'User-Agent': 'Mozilla/5.0 (iPad; CPU OS 12_2 like Mac OS X) AppleWebKit/605.1.15 (KHTML, like Gecko) Mobile/15E148'})\n",
    "    webpage = webpage_response.content\n",
    "    soup = BeautifulSoup(webpage, \"html.parser\")\n",
    "    table = soup.find(\"table\")\n",
    "    all_links = table.find_all(\"a\",href=True)\n",
    "    for link in all_links:\n",
    "        if len(link['href'].split(\"//www.espn.com/nfl/boxscore/_/gameId/\")[-1]) == 9:\n",
    "            game_ids.append(link['href'].split(\"//www.espn.com/nfl/boxscore/_/gameId/\")[-1])\n",
    "\n",
    "game_ids = [*set(game_ids)]\n"
   ]
  },
  {
   "cell_type": "code",
   "execution_count": 4,
   "metadata": {},
   "outputs": [
    {
     "name": "stdout",
     "output_type": "stream",
     "text": [
      "4383\n"
     ]
    }
   ],
   "source": [
    "print(len(game_ids))"
   ]
  },
  {
   "cell_type": "code",
   "execution_count": 168,
   "metadata": {},
   "outputs": [],
   "source": [
    "mydb = mysql.connector.connect(\n",
    "  host=\"127.0.0.1\",\n",
    "  user=\"root\",\n",
    "  password=\"vuQDE37idjRX\",\n",
    "  database=\"nfl\"\n",
    ")\n",
    "cur = mydb.cursor()"
   ]
  },
  {
   "cell_type": "code",
   "execution_count": 115,
   "metadata": {},
   "outputs": [
    {
     "ename": "IndexError",
     "evalue": "list index out of range",
     "output_type": "error",
     "traceback": [
      "\u001b[1;31m---------------------------------------------------------------------------\u001b[0m",
      "\u001b[1;31mIndexError\u001b[0m                                Traceback (most recent call last)",
      "Cell \u001b[1;32mIn[115], line 3\u001b[0m\n\u001b[0;32m      1\u001b[0m \u001b[39mfor\u001b[39;00m i \u001b[39min\u001b[39;00m \u001b[39mrange\u001b[39m(\u001b[39mlen\u001b[39m(game_ids)):\n\u001b[0;32m      2\u001b[0m     i\u001b[39m=\u001b[39m\u001b[39m4383\u001b[39m\n\u001b[1;32m----> 3\u001b[0m     webpage_response \u001b[39m=\u001b[39m requests\u001b[39m.\u001b[39mget(prefix\u001b[39m+\u001b[39mgame_ids[i], headers\u001b[39m=\u001b[39m{\u001b[39m'\u001b[39m\u001b[39mUser-Agent\u001b[39m\u001b[39m'\u001b[39m: \u001b[39m'\u001b[39m\u001b[39mMozilla/5.0 (iPad; CPU OS 12_2 like Mac OS X) AppleWebKit/605.1.15 (KHTML, like Gecko) Mobile/15E148\u001b[39m\u001b[39m'\u001b[39m})\n\u001b[0;32m      4\u001b[0m     webpage \u001b[39m=\u001b[39m webpage_response\u001b[39m.\u001b[39mcontent\n\u001b[0;32m      5\u001b[0m     soup \u001b[39m=\u001b[39m BeautifulSoup(webpage, \u001b[39m\"\u001b[39m\u001b[39mhtml.parser\u001b[39m\u001b[39m\"\u001b[39m)\n",
      "\u001b[1;31mIndexError\u001b[0m: list index out of range"
     ]
    }
   ],
   "source": [
    "for i in range(len(game_ids)):\n",
    "    i=4383\n",
    "    webpage_response = requests.get(prefix+game_ids[i], headers={'User-Agent': 'Mozilla/5.0 (iPad; CPU OS 12_2 like Mac OS X) AppleWebKit/605.1.15 (KHTML, like Gecko) Mobile/15E148'})\n",
    "    webpage = webpage_response.content\n",
    "    soup = BeautifulSoup(webpage, \"html.parser\")\n",
    "    \n",
    "    teams = soup.find_all(\"h2\")\n",
    "    away_team = teams[0].get_text().split(\" \")[-1]\n",
    "    home_team = teams[1].get_text().split(\" \")[-1]\n",
    "    if away_team == \"Redskins\" or away_team == \"Washington\":\n",
    "        away_team = \"Commanders\"\n",
    "    elif home_team == \"Redskins\" or home_team == \"Washington\":\n",
    "        home_team = \"Commanders\"\n",
    "\n",
    "    scores = soup.find_all(\"div\",{\"class\":\"Gamestrip__Score relative tc w-100 fw-heavy h2 clr-gray-01\"})\n",
    "    away_score = re.split(\"W\",scores[0].get_text(),1)[0]\n",
    "    home_score = re.split(\"W\",scores[1].get_text(),1)[0]\n",
    "    if len(re.split(\"W\",scores[0].get_text(),1)) == 2:\n",
    "        away_w_l = 1\n",
    "        home_w_l = 0\n",
    "    else:\n",
    "        away_w_l = 0\n",
    "        home_w_l = 1\n",
    "\n",
    "    if soup.find(\"div\",{\"class\":\"n6 clr-gray-03 GameInfo__Location__Name\"}) == None:\n",
    "        try:\n",
    "            stadium = soup.find(\"div\",{\"class\":\"n6 clr-gray-03 GameInfo__Location__Name--noImg\"}).get_text()\n",
    "        except:\n",
    "            print(i,game_ids[i],\"No Stadium\")\n",
    "            continue\n",
    "    else:\n",
    "        stadium = soup.find(\"div\",{\"class\":\"n6 clr-gray-03 GameInfo__Location__Name\"}).get_text()\n",
    "    \n",
    "\n",
    "    date_time = soup.find(\"div\",{\"class\":\"n8 GameInfo__Meta\"}).get_text().split(\"Cove\")[0]\n",
    "    date_time = datetime.strptime(date_time, '%I:%M %p, %B %d, %Y')\n",
    "    date = date_time.strftime(\"%Y-%m-%d\") \n",
    "    hour = date_time.strftime(\"%H\")\n",
    "\n",
    "    cur.execute('SELECT latitude FROM stadiums WHERE name=\"'+stadium+'\"')\n",
    "    lat = cur.fetchone()[0]\n",
    "    cur.execute('SELECT longitude FROM stadiums WHERE name=\"'+stadium+'\"')\n",
    "    long = cur.fetchone()[0]\n",
    "\n",
    "    webpage_response = requests.get('https://archive-api.open-meteo.com/v1/archive?latitude='+str(lat)+'&longitude='+str(long)+'&start_date='+str(date)+'&end_date='+str(date)+'&hourly=temperature_2m,relativehumidity_2m,apparent_temperature,rain,snowfall,surface_pressure,cloudcover,windspeed_100m,winddirection_100m&temperature_unit=fahrenheit&windspeed_unit=mph&precipitation_unit=inch&timezone=America%2FNew_York')\n",
    "    webpage_response = webpage_response.json()\n",
    "\n",
    "    temp = mean(webpage_response['hourly']['temperature_2m'][int(hour):int(hour)+4])\n",
    "    humidity = mean(webpage_response['hourly']['relativehumidity_2m'][int(hour):int(hour)+4])\n",
    "    apparent_temp = mean(webpage_response['hourly']['apparent_temperature'][int(hour):int(hour)+4])\n",
    "    rain = mean(webpage_response['hourly']['rain'][int(hour):int(hour)+4])\n",
    "    snowfall = mean(webpage_response['hourly']['snowfall'][int(hour):int(hour)+4])\n",
    "    surface_pressure = mean(webpage_response['hourly']['surface_pressure'][int(hour):int(hour)+4])\n",
    "    cloudcover = mean(webpage_response['hourly']['cloudcover'][int(hour):int(hour)+4])\n",
    "    windspeed_100m = mean(webpage_response['hourly']['windspeed_100m'][int(hour):int(hour)+4])\n",
    "    winddirection_100m = mean(webpage_response['hourly']['winddirection_100m'][int(hour):int(hour)+4])\n",
    "    weather_lst = [temp,humidity,apparent_temp,rain,snowfall,surface_pressure,cloudcover,windspeed_100m,winddirection_100m]\n",
    "\n",
    "    temp_home = [i*2+1,game_ids[i],date,hour,1,home_team,stadium,home_score,home_w_l]\n",
    "    temp_away = [i*2,game_ids[i],date,hour,0,away_team,stadium,away_score,away_w_l]\n",
    "    \n",
    "    # if this fails teams stats is empty ex: 290914013\n",
    "    try:\n",
    "        table = soup.find_all(\"table\")[1]\n",
    "    except:\n",
    "        print(i,game_ids[i],\"No Stats\")\n",
    "        continue\n",
    "\n",
    "    print(i,game_ids[i],stadium,date,hour,lat,long,webpage_response)\n",
    "\n",
    "    for j,value in enumerate(table.get_text(separator='|').split(\"|\")):\n",
    "        if j == 67 or j == 68:\n",
    "            pass\n",
    "        elif j % 3 == 1:\n",
    "            for stat in value.split(\"-\"):\n",
    "                if \".\" in stat:\n",
    "                    temp_away.append(float(stat))\n",
    "                elif \":\" in stat:\n",
    "                    temp_away.append(str(stat))\n",
    "                else:\n",
    "                    try:\n",
    "                        temp_away.append(int(stat))\n",
    "                    except:\n",
    "                        temp_away.append(str(stat))\n",
    "        elif j % 3 == 2:\n",
    "            for stat in value.split(\"-\"):\n",
    "                if \".\" in stat:\n",
    "                    temp_home.append(float(stat))\n",
    "                elif \":\" in stat:\n",
    "                    temp_home.append(str(stat))\n",
    "                else:\n",
    "                    try:\n",
    "                        temp_home.append(int(stat))\n",
    "                    except:\n",
    "                        temp_home.append(str(stat))\n",
    "    for stat in weather_lst:\n",
    "        temp_away.append(stat)\n",
    "        temp_home.append(stat)\n",
    "\n",
    "    stats.append(temp_away)\n",
    "    stats.append(temp_home)\n",
    "    \n",
    "    time.sleep(1)\n",
    "    "
   ]
  },
  {
   "cell_type": "code",
   "execution_count": 166,
   "metadata": {},
   "outputs": [
    {
     "name": "stdout",
     "output_type": "stream",
     "text": [
      "47\n",
      "%s,%s,%s,%s,%s,%s,%s,%s,%s,%s,%s,%s,%s,%s,%s,%s,%s,%s,%s,%s,%s,%s,%s,%s,%s,%s,%s,%s,%s,%s,%s,%s,%s,%s,%s,%s,%s,%s,%s,%s,%s,%s,%s,%s,%s,%s,%s,%s,\n"
     ]
    }
   ],
   "source": [
    "print(len(stats[0][:-1]))\n",
    "print(\"%s,\"*len(stats[0]))"
   ]
  },
  {
   "cell_type": "code",
   "execution_count": 1,
   "metadata": {},
   "outputs": [
    {
     "ename": "NameError",
     "evalue": "name 'cur' is not defined",
     "output_type": "error",
     "traceback": [
      "\u001b[1;31m---------------------------------------------------------------------------\u001b[0m",
      "\u001b[1;31mNameError\u001b[0m                                 Traceback (most recent call last)",
      "\u001b[1;32mc:\\Users\\Jeff\\Desktop\\Python\\Fun\\NFL\\scrap_gid.ipynb Cell 7\u001b[0m line \u001b[0;36m1\n\u001b[1;32m----> <a href='vscode-notebook-cell:/c%3A/Users/Jeff/Desktop/Python/Fun/NFL/scrap_gid.ipynb#W6sZmlsZQ%3D%3D?line=0'>1</a>\u001b[0m cur\u001b[39m.\u001b[39mexecute(\u001b[39m\"\u001b[39m\u001b[39mDELETE FROM games\u001b[39m\u001b[39m\"\u001b[39m)\n\u001b[0;32m      <a href='vscode-notebook-cell:/c%3A/Users/Jeff/Desktop/Python/Fun/NFL/scrap_gid.ipynb#W6sZmlsZQ%3D%3D?line=1'>2</a>\u001b[0m columns \u001b[39m=\u001b[39m \u001b[39m\"\u001b[39m\u001b[39m(id,game_id,date,time,home_away,team,stadium_id,score,winner,1st_downs,passing_1st_downs,rushing_1st_downs,penalty_1st_downs,3rd_down_conversions,3rd_down_attempts,4th_down_conversions,4th_down_attempts,total_plays,total_yards,total_drives,yards_per_play,passing_yards,passing_completions,passing_attempts,yards_per_pass,interceptions_thrown,sacks_lost,yards_lost_to_sacks,rushing_yards,rushing_attempts,yards_per_rush,red_zone_tds,red_zone_attempts,penalties,penalty_yards,turnovers,fumbels_lost,dst_tds,possession_time,temp,humidity,apparent_temp,rain,snow,surface_pressure,cloudcover,wind_speed,wind_direction)\u001b[39m\u001b[39m\"\u001b[39m  \u001b[39m# Make sure to correctly outline your column names as they appear in your MySQL table\u001b[39;00m\n\u001b[0;32m      <a href='vscode-notebook-cell:/c%3A/Users/Jeff/Desktop/Python/Fun/NFL/scrap_gid.ipynb#W6sZmlsZQ%3D%3D?line=2'>3</a>\u001b[0m sql \u001b[39m=\u001b[39m \u001b[39m\"\u001b[39m\u001b[39mINSERT INTO games \u001b[39m\u001b[39m\"\u001b[39m \u001b[39m+\u001b[39m columns \u001b[39m+\u001b[39m \u001b[39m\"\u001b[39m\u001b[39m VALUES (\u001b[39m\u001b[39m\"\u001b[39m \u001b[39m+\u001b[39m \u001b[39m\"\u001b[39m\u001b[39m%s\u001b[39;00m\u001b[39m,\u001b[39m\u001b[39m\"\u001b[39m\u001b[39m*\u001b[39m\u001b[39mlen\u001b[39m(stats[\u001b[39m0\u001b[39m][:\u001b[39m-\u001b[39m\u001b[39m1\u001b[39m]) \u001b[39m+\u001b[39m \u001b[39m\"\u001b[39m\u001b[39m%s\u001b[39;00m\u001b[39m)\u001b[39m\u001b[39m\"\u001b[39m  \u001b[39m# The '%s,'*len(data[0])[:-1] will provide the right amount of %s placeholders for variables in your SQL statement\u001b[39;00m\n",
      "\u001b[1;31mNameError\u001b[0m: name 'cur' is not defined"
     ]
    }
   ],
   "source": [
    "cur.execute(\"DELETE FROM games\")\n",
    "columns = \"(id,game_id,date,time,home_away,team,stadium_id,score,winner,1st_downs,passing_1st_downs,rushing_1st_downs,penalty_1st_downs,3rd_down_conversions,3rd_down_attempts,4th_down_conversions,4th_down_attempts,total_plays,total_yards,total_drives,yards_per_play,passing_yards,passing_completions,passing_attempts,yards_per_pass,interceptions_thrown,sacks_lost,yards_lost_to_sacks,rushing_yards,rushing_attempts,yards_per_rush,red_zone_tds,red_zone_attempts,penalties,penalty_yards,turnovers,fumbels_lost,dst_tds,possession_time,temp,humidity,apparent_temp,rain,snow,surface_pressure,cloudcover,wind_speed,wind_direction)\"  # Make sure to correctly outline your column names as they appear in your MySQL table\n",
    "sql = \"INSERT INTO games \" + columns + \" VALUES (\" + \"%s,\"*len(stats[0][:-1]) + \"%s)\"  # The '%s,'*len(data[0])[:-1] will provide the right amount of %s placeholders for variables in your SQL statement\n",
    "for row in stats:\n",
    "    if len(row) == 48:\n",
    "        print(tuple(row))\n",
    "        cur.execute(sql, tuple(row))\n",
    "        mydb.commit()"
   ]
  }
 ],
 "metadata": {
  "kernelspec": {
   "display_name": "Python 3",
   "language": "python",
   "name": "python3"
  },
  "language_info": {
   "codemirror_mode": {
    "name": "ipython",
    "version": 3
   },
   "file_extension": ".py",
   "mimetype": "text/x-python",
   "name": "python",
   "nbconvert_exporter": "python",
   "pygments_lexer": "ipython3",
   "version": "3.11.1"
  },
  "orig_nbformat": 4
 },
 "nbformat": 4,
 "nbformat_minor": 2
}
