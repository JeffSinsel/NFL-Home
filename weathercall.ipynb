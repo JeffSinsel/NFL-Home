{
 "cells": [
  {
   "cell_type": "code",
   "execution_count": 2,
   "metadata": {},
   "outputs": [],
   "source": [
    "import pandas as pd\n",
    "import requests\n",
    "from bs4 import BeautifulSoup\n",
    "import re\n",
    "import sqlite3\n",
    "import time"
   ]
  },
  {
   "cell_type": "code",
   "execution_count": 31,
   "metadata": {},
   "outputs": [
    {
     "name": "stdout",
     "output_type": "stream",
     "text": [
      "[-0.1, -0.6, -1.2, -1.7, -1.6, -1.2, 1.1, 3.1, 4.1, 4.7, 5.0, 4.3, 4.1, 4.1, 4.6, 5.0, 5.0, 4.8, 4.6, 4.3, 4.2, 4.2, 4.1, 4.1]\n"
     ]
    }
   ],
   "source": [
    "# open-meteo.com\n",
    "webpage_response = requests.get('https://archive-api.open-meteo.com/v1/archive?latitude='+str(lat)+'&longitude='+str(long)+'&start_date='+str(date)+'&end_date='+str(date)+'&hourly=temperature_2m,relativehumidity_2m,apparent_temperature,rain,snowfall,surface_pressure,cloudcover,windspeed_100m,winddirection_100m')\n",
    "webpage_response = webpage_response.json()\n",
    "print(webpage_response['hourly']['temperature_2m'])"
   ]
  },
  {
   "cell_type": "code",
   "execution_count": 2,
   "metadata": {},
   "outputs": [
    {
     "name": "stdout",
     "output_type": "stream",
     "text": [
      "0.3146153846153846 0.559322033898305 0.26666666666666666\n"
     ]
    }
   ],
   "source": [
    "print(33/(33+19)-16/(16+34),33/59,16/60)"
   ]
  }
 ],
 "metadata": {
  "kernelspec": {
   "display_name": "Python 3",
   "language": "python",
   "name": "python3"
  },
  "language_info": {
   "codemirror_mode": {
    "name": "ipython",
    "version": 3
   },
   "file_extension": ".py",
   "mimetype": "text/x-python",
   "name": "python",
   "nbconvert_exporter": "python",
   "pygments_lexer": "ipython3",
   "version": "3.11.1"
  },
  "orig_nbformat": 4
 },
 "nbformat": 4,
 "nbformat_minor": 2
}
